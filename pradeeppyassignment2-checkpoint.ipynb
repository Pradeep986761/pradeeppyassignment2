{
 "cells": [
  {
   "cell_type": "code",
   "execution_count": 1,
   "id": "8e66c3c8",
   "metadata": {},
   "outputs": [
    {
     "data": {
      "text/plain": [
       "'1.12.1'"
      ]
     },
     "execution_count": 1,
     "metadata": {},
     "output_type": "execute_result"
    }
   ],
   "source": [
    "#load the library and check its version, just to make sure we aren't using an older version\n",
    "import numpy as np\n",
    "np.__version__\n",
    "'1.12.1'\n"
   ]
  },
  {
   "cell_type": "code",
   "execution_count": 2,
   "id": "58e514d0",
   "metadata": {},
   "outputs": [],
   "source": [
    "#create a list comprising numbers from 0 to 9\n",
    "L = list(range(10))"
   ]
  },
  {
   "cell_type": "code",
   "execution_count": 3,
   "id": "54581056",
   "metadata": {},
   "outputs": [
    {
     "data": {
      "text/plain": [
       "[int, int, int, int, int, int, int, int, int, int]"
      ]
     },
     "execution_count": 3,
     "metadata": {},
     "output_type": "execute_result"
    }
   ],
   "source": [
    "#converting integers to string - this style of handling lists is known as list comprehension.\n",
    "#List comprehension offers a versatile way to handle list manipulations tasks easily. We'll learn about them in future tutorials. Here's an example.  \n",
    "\n",
    "[str(c) for c in L]\n",
    "['0', '1', '2', '3', '4', '5', '6', '7', '8', '9']\n",
    "\n",
    "[type(item) for item in L]\n",
    "[int, int, int, int, int, int, int, int, int, int]"
   ]
  },
  {
   "cell_type": "code",
   "execution_count": 4,
   "id": "07fe809b",
   "metadata": {},
   "outputs": [
    {
     "ename": "NameError",
     "evalue": "name 'array' is not defined",
     "output_type": "error",
     "traceback": [
      "\u001b[1;31m---------------------------------------------------------------------------\u001b[0m",
      "\u001b[1;31mNameError\u001b[0m                                 Traceback (most recent call last)",
      "Cell \u001b[1;32mIn[4], line 3\u001b[0m\n\u001b[0;32m      1\u001b[0m \u001b[38;5;66;03m#creating arrays\u001b[39;00m\n\u001b[0;32m      2\u001b[0m np\u001b[38;5;241m.\u001b[39mzeros(\u001b[38;5;241m10\u001b[39m, dtype\u001b[38;5;241m=\u001b[39m\u001b[38;5;124m'\u001b[39m\u001b[38;5;124mint\u001b[39m\u001b[38;5;124m'\u001b[39m)\n\u001b[1;32m----> 3\u001b[0m \u001b[43marray\u001b[49m([\u001b[38;5;241m0\u001b[39m, \u001b[38;5;241m0\u001b[39m, \u001b[38;5;241m0\u001b[39m, \u001b[38;5;241m0\u001b[39m, \u001b[38;5;241m0\u001b[39m, \u001b[38;5;241m0\u001b[39m, \u001b[38;5;241m0\u001b[39m, \u001b[38;5;241m0\u001b[39m, \u001b[38;5;241m0\u001b[39m, \u001b[38;5;241m0\u001b[39m])\n\u001b[0;32m      6\u001b[0m \u001b[38;5;66;03m#creating a 3 row x 5 column matrix\u001b[39;00m\n\u001b[0;32m      7\u001b[0m np\u001b[38;5;241m.\u001b[39mones((\u001b[38;5;241m3\u001b[39m,\u001b[38;5;241m5\u001b[39m), dtype\u001b[38;5;241m=\u001b[39m\u001b[38;5;28mfloat\u001b[39m)\n",
      "\u001b[1;31mNameError\u001b[0m: name 'array' is not defined"
     ]
    }
   ],
   "source": [
    "#creating arrays\n",
    "np.zeros(10, dtype='int')\n",
    "array([0, 0, 0, 0, 0, 0, 0, 0, 0, 0])\n",
    "\n",
    "\n",
    "#creating a 3 row x 5 column matrix\n",
    "np.ones((3,5), dtype=float)\n",
    "array([[ 1.,  1.,  1.,  1.,  1.],\n",
    "      [ 1.,  1.,  1.,  1.,  1.],\n",
    "      [ 1.,  1.,  1.,  1.,  1.]])\n",
    "\n",
    "\n",
    "#creating a matrix with a predefined value\n",
    "np.full((3,5),1.23)\n",
    "array([[ 1.23,  1.23,  1.23,  1.23,  1.23],\n",
    "      [ 1.23,  1.23,  1.23,  1.23,  1.23],\n",
    "      [ 1.23,  1.23,  1.23,  1.23,  1.23]])\n",
    "\n",
    "\n",
    "#create an array with a set sequence\n",
    "np.arange(0, 20, 2)\n",
    "array([0, 2, 4, 6, 8,10,12,14,16,18])\n",
    "\n",
    "\n",
    "#create an array of even space between the given range of values\n",
    "np.linspace(0, 1, 5)\n",
    "array([ 0., 0.25, 0.5 , 0.75, 1.])\n",
    "\n",
    "\n",
    "#create a 3x3 array with mean 0 and standard deviation 1 in a given dimension\n",
    "np.random.normal(0, 1, (3,3))\n",
    "array([[ 0.72432142, -0.90024075,  0.27363808],\n",
    "      [ 0.88426129,  1.45096856, -1.03547109],\n",
    "      [-0.42930994, -1.02284441, -1.59753603]])\n",
    "\n",
    "\n",
    "#create an identity matrix\n",
    "np.eye(3)\n",
    "array([[ 1.,  0.,  0.],\n",
    "      [ 0.,  1.,  0.],\n",
    "      [ 0.,  0.,  1.]])\n",
    "\n",
    "\n",
    "#set a random seed\n",
    "np.random.seed(0)\n",
    "\n",
    "\n",
    "x1 = np.random.randint(10, size=6) #one dimension\n",
    "x2 = np.random.randint(10, size=(3,4)) #two dimension\n",
    "x3 = np.random.randint(10, size=(3,4,5)) #three dimension\n",
    "\n",
    "\n",
    "print(\"x3 ndim:\", x3.ndim)\n",
    "print(\"x3 shape:\", x3.shape)\n",
    "print(\"x3 size: \", x3.size)\n",
    "('x3 ndim:', 3)\n",
    "('x3 shape:', (3, 4, 5))\n",
    "('x3 size: ', 60)"
   ]
  },
  {
   "cell_type": "code",
   "execution_count": 5,
   "id": "7069840d",
   "metadata": {},
   "outputs": [
    {
     "name": "stdout",
     "output_type": "stream",
     "text": [
      "[0 0 0 0 0 0 0 0 0 0]\n",
      "[[1. 1. 1. 1. 1.]\n",
      " [1. 1. 1. 1. 1.]\n",
      " [1. 1. 1. 1. 1.]]\n",
      "[[1.23 1.23 1.23 1.23 1.23]\n",
      " [1.23 1.23 1.23 1.23 1.23]\n",
      " [1.23 1.23 1.23 1.23 1.23]]\n",
      "[ 0  2  4  6  8 10 12 14 16 18]\n",
      "[0.   0.25 0.5  0.75 1.  ]\n",
      "[[-1.46647859 -0.20872778  0.06410725]\n",
      " [-1.91207962 -0.10498443 -1.28846726]\n",
      " [ 0.9759734   0.84198859  1.3557839 ]]\n",
      "[[1. 0. 0.]\n",
      " [0. 1. 0.]\n",
      " [0. 0. 1.]]\n",
      "x3 ndim: 3\n",
      "x3 shape: (3, 4, 5)\n",
      "x3 size:  60\n"
     ]
    }
   ],
   "source": [
    "import numpy as np\n",
    "\n",
    "#creating arrays\n",
    "print(np.zeros(10, dtype='int'))\n",
    "# Output: [0 0 0 0 0 0 0 0 0 0]\n",
    "\n",
    "#creating a 3 row x 5 column matrix\n",
    "print(np.ones((3,5), dtype=float))\n",
    "# Output: \n",
    "# [[1. 1. 1. 1. 1.]\n",
    "#  [1. 1. 1. 1. 1.]\n",
    "#  [1. 1. 1. 1. 1.]]\n",
    "\n",
    "#creating a matrix with a predefined value\n",
    "print(np.full((3,5),1.23))\n",
    "# Output: \n",
    "# [[1.23 1.23 1.23 1.23 1.23]\n",
    "#  [1.23 1.23 1.23 1.23 1.23]\n",
    "#  [1.23 1.23 1.23 1.23 1.23]]\n",
    "\n",
    "#create an array with a set sequence\n",
    "print(np.arange(0, 20, 2))\n",
    "# Output: [ 0  2  4  6  8 10 12 14 16 18]\n",
    "\n",
    "#create an array of even space between the given range of values\n",
    "print(np.linspace(0, 1, 5))\n",
    "# Output: [0.   0.25 0.5  0.75 1.  ]\n",
    "\n",
    "#create a 3x3 array with mean 0 and standard deviation 1 in a given dimension\n",
    "print(np.random.normal(0, 1, (3,3)))\n",
    "# Output:\n",
    "# [[ 1.76405235  0.40015721  0.97873798]\n",
    "#  [ 2.2408932   1.86755799 -0.97727788]\n",
    "#  [ 0.95008842 -0.15135721 -0.10321885]]\n",
    "\n",
    "#create an identity matrix\n",
    "print(np.eye(3))\n",
    "# Output:\n",
    "# [[1. 0. 0.]\n",
    "#  [0. 1. 0.]\n",
    "#  [0. 0. 1.]]\n",
    "\n",
    "#set a random seed\n",
    "np.random.seed(0)\n",
    "\n",
    "x1 = np.random.randint(10, size=6) #one dimension\n",
    "x2 = np.random.randint(10, size=(3,4)) #two dimension\n",
    "x3 = np.random.randint(10, size=(3,4,5)) #three dimension\n",
    "\n",
    "print(\"x3 ndim:\", x3.ndim)\n",
    "print(\"x3 shape:\", x3.shape)\n",
    "print(\"x3 size: \", x3.size)\n",
    "# Output:\n",
    "# x3 ndim: 3\n",
    "# x3 shape: (3, 4, 5)\n",
    "# x3 size:  60\n"
   ]
  },
  {
   "cell_type": "code",
   "execution_count": 6,
   "id": "bda4bcee",
   "metadata": {},
   "outputs": [
    {
     "ename": "NameError",
     "evalue": "name 'array' is not defined",
     "output_type": "error",
     "traceback": [
      "\u001b[1;31m---------------------------------------------------------------------------\u001b[0m",
      "\u001b[1;31mNameError\u001b[0m                                 Traceback (most recent call last)",
      "Cell \u001b[1;32mIn[6], line 3\u001b[0m\n\u001b[0;32m      1\u001b[0m x1 \u001b[38;5;241m=\u001b[39m np\u001b[38;5;241m.\u001b[39marray([\u001b[38;5;241m4\u001b[39m, \u001b[38;5;241m3\u001b[39m, \u001b[38;5;241m4\u001b[39m, \u001b[38;5;241m4\u001b[39m, \u001b[38;5;241m8\u001b[39m, \u001b[38;5;241m4\u001b[39m])\n\u001b[0;32m      2\u001b[0m x1\n\u001b[1;32m----> 3\u001b[0m \u001b[43marray\u001b[49m([\u001b[38;5;241m4\u001b[39m, \u001b[38;5;241m3\u001b[39m, \u001b[38;5;241m4\u001b[39m, \u001b[38;5;241m4\u001b[39m, \u001b[38;5;241m8\u001b[39m, \u001b[38;5;241m4\u001b[39m])\n\u001b[0;32m      5\u001b[0m \u001b[38;5;66;03m#assess value to index zero\u001b[39;00m\n\u001b[0;32m      6\u001b[0m x1[\u001b[38;5;241m0\u001b[39m]\n",
      "\u001b[1;31mNameError\u001b[0m: name 'array' is not defined"
     ]
    }
   ],
   "source": [
    "x1 = np.array([4, 3, 4, 4, 8, 4])\n",
    "x1\n",
    "array([4, 3, 4, 4, 8, 4])\n",
    "\n",
    "#assess value to index zero\n",
    "x1[0]\n",
    "4\n",
    "\n",
    "#assess fifth value\n",
    "x1[4]\n",
    "8\n",
    "\n",
    "#get the last value\n",
    "x1[-1]\n",
    "4\n",
    "\n",
    "#get the second last value\n",
    "x1[-2]\n",
    "8\n",
    "\n",
    "#in a multidimensional array, we need to specify row and column index\n",
    "x2\n",
    "array([[3, 7, 5, 5],\n",
    "      [0, 1, 5, 9],\n",
    "      [3, 0, 5, 0]])\n",
    "\n",
    "\n",
    "#1st row and 2nd column value\n",
    "x2[2,3]\n",
    "0\n",
    "\n",
    "#3rd row and last value from the 3rd column\n",
    "x2[2,-1]\n",
    "0\n",
    "\n",
    "\n",
    "#replace value at 0,0 index\n",
    "x2[0,0] = 12\n",
    "x2\n",
    "array([[12,  7,  5,  5],\n",
    "      [ 0,  1,  5,  9],\n",
    "      [ 3,  0,  5,  0]])"
   ]
  },
  {
   "cell_type": "code",
   "execution_count": 7,
   "id": "7ad89a48",
   "metadata": {},
   "outputs": [
    {
     "name": "stdout",
     "output_type": "stream",
     "text": [
      "[4 3 4 4 8 4]\n",
      "4\n",
      "8\n",
      "4\n",
      "8\n",
      "0\n",
      "0\n",
      "[[12  7  5  5]\n",
      " [ 0  1  5  9]\n",
      " [ 3  0  5  0]]\n"
     ]
    }
   ],
   "source": [
    "import numpy as np\n",
    "\n",
    "x1 = np.array([4, 3, 4, 4, 8, 4])\n",
    "print(x1) # output: [4 3 4 4 8 4]\n",
    "\n",
    "# access value at index zero\n",
    "print(x1[0]) # output: 4\n",
    "\n",
    "# access fifth value\n",
    "print(x1[4]) # output: 8\n",
    "\n",
    "# get the last value\n",
    "print(x1[-1]) # output: 4\n",
    "\n",
    "# get the second last value\n",
    "print(x1[-2]) # output: 8\n",
    "\n",
    "# in a multidimensional array, we need to specify row and column index\n",
    "x2 = np.array([[3, 7, 5, 5],\n",
    "               [0, 1, 5, 9],\n",
    "               [3, 0, 5, 0]])\n",
    "\n",
    "# 1st row and 2nd column value\n",
    "print(x2[2, 3]) # output: 0\n",
    "\n",
    "# 3rd row and last value from the 3rd column\n",
    "print(x2[2, -1]) # output: 0\n",
    "\n",
    "# replace value at 0,0 index\n",
    "x2[0, 0] = 12\n",
    "print(x2)\n",
    "# output: [[12  7  5  5]\n",
    "#          [ 0  1  5  9]\n",
    "#          [ 3  0  5  0]] \n"
   ]
  },
  {
   "cell_type": "code",
   "execution_count": 8,
   "id": "513bfdc6",
   "metadata": {},
   "outputs": [
    {
     "ename": "NameError",
     "evalue": "name 'array' is not defined",
     "output_type": "error",
     "traceback": [
      "\u001b[1;31m---------------------------------------------------------------------------\u001b[0m",
      "\u001b[1;31mNameError\u001b[0m                                 Traceback (most recent call last)",
      "Cell \u001b[1;32mIn[8], line 3\u001b[0m\n\u001b[0;32m      1\u001b[0m x \u001b[38;5;241m=\u001b[39m np\u001b[38;5;241m.\u001b[39marange(\u001b[38;5;241m10\u001b[39m)\n\u001b[0;32m      2\u001b[0m x\n\u001b[1;32m----> 3\u001b[0m \u001b[43marray\u001b[49m([\u001b[38;5;241m0\u001b[39m, \u001b[38;5;241m1\u001b[39m, \u001b[38;5;241m2\u001b[39m, \u001b[38;5;241m3\u001b[39m, \u001b[38;5;241m4\u001b[39m, \u001b[38;5;241m5\u001b[39m, \u001b[38;5;241m6\u001b[39m, \u001b[38;5;241m7\u001b[39m, \u001b[38;5;241m8\u001b[39m, \u001b[38;5;241m9\u001b[39m])\n\u001b[0;32m      6\u001b[0m \u001b[38;5;66;03m#from start to 4th position\u001b[39;00m\n\u001b[0;32m      7\u001b[0m x[:\u001b[38;5;241m5\u001b[39m]\n",
      "\u001b[1;31mNameError\u001b[0m: name 'array' is not defined"
     ]
    }
   ],
   "source": [
    "x = np.arange(10)\n",
    "x\n",
    "array([0, 1, 2, 3, 4, 5, 6, 7, 8, 9])\n",
    "\n",
    "\n",
    "#from start to 4th position\n",
    "x[:5]\n",
    "array([0, 1, 2, 3, 4])\n",
    "\n",
    "\n",
    "#from 4th position to end\n",
    "x[4:]\n",
    "array([4, 5, 6, 7, 8, 9])\n",
    "\n",
    "\n",
    "#from 4th to 6th position\n",
    "x[4:7]\n",
    "array([4, 5, 6])\n",
    "\n",
    "\n",
    "#return elements at even place\n",
    "x[ : : 2]\n",
    "array([0, 2, 4, 6, 8])\n",
    "\n",
    "\n",
    "#return elements from first position step by two\n",
    "x[1::2]\n",
    "array([1, 3, 5, 7, 9])\n",
    "\n",
    "\n",
    "#reverse the array\n",
    "x[::-1]\n",
    "array([9, 8, 7, 6, 5, 4, 3, 2, 1, 0])"
   ]
  },
  {
   "cell_type": "code",
   "execution_count": 9,
   "id": "4351293e",
   "metadata": {},
   "outputs": [
    {
     "ename": "NameError",
     "evalue": "name 'array' is not defined",
     "output_type": "error",
     "traceback": [
      "\u001b[1;31m---------------------------------------------------------------------------\u001b[0m",
      "\u001b[1;31mNameError\u001b[0m                                 Traceback (most recent call last)",
      "Cell \u001b[1;32mIn[9], line 5\u001b[0m\n\u001b[0;32m      3\u001b[0m x \u001b[38;5;241m=\u001b[39m np\u001b[38;5;241m.\u001b[39marange(\u001b[38;5;241m10\u001b[39m)\n\u001b[0;32m      4\u001b[0m x\n\u001b[1;32m----> 5\u001b[0m \u001b[43marray\u001b[49m([\u001b[38;5;241m0\u001b[39m, \u001b[38;5;241m1\u001b[39m, \u001b[38;5;241m2\u001b[39m, \u001b[38;5;241m3\u001b[39m, \u001b[38;5;241m4\u001b[39m, \u001b[38;5;241m5\u001b[39m, \u001b[38;5;241m6\u001b[39m, \u001b[38;5;241m7\u001b[39m, \u001b[38;5;241m8\u001b[39m, \u001b[38;5;241m9\u001b[39m])\n\u001b[0;32m      8\u001b[0m \u001b[38;5;66;03m#from start to 4th position\u001b[39;00m\n\u001b[0;32m      9\u001b[0m x[:\u001b[38;5;241m5\u001b[39m]\n",
      "\u001b[1;31mNameError\u001b[0m: name 'array' is not defined"
     ]
    }
   ],
   "source": [
    "import numpy as np\n",
    "\n",
    "x = np.arange(10)\n",
    "x\n",
    "array([0, 1, 2, 3, 4, 5, 6, 7, 8, 9])\n",
    "\n",
    "\n",
    "#from start to 4th position\n",
    "x[:5]\n",
    "array([0, 1, 2, 3, 4])\n",
    "\n",
    "\n",
    "#from 4th position to end\n",
    "x[4:]\n",
    "array([4, 5, 6, 7, 8, 9])\n",
    "\n",
    "\n",
    "#from 4th to 6th position\n",
    "x[4:7]\n",
    "array([4, 5, 6])\n",
    "\n",
    "\n",
    "#return elements at even place\n",
    "x[ : : 2]\n",
    "array([0, 2, 4, 6, 8])\n",
    "\n",
    "\n",
    "#return elements from first position step by two\n",
    "x[1::2]\n",
    "array([1, 3, 5, 7, 9])\n",
    "\n",
    "\n",
    "#reverse the array\n",
    "x[::-1]\n",
    "array([9, 8, 7, 6, 5, 4, 3, 2, 1, 0])\n"
   ]
  },
  {
   "cell_type": "code",
   "execution_count": 10,
   "id": "e5321af0",
   "metadata": {},
   "outputs": [
    {
     "ename": "NameError",
     "evalue": "name 'array' is not defined",
     "output_type": "error",
     "traceback": [
      "\u001b[1;31m---------------------------------------------------------------------------\u001b[0m",
      "\u001b[1;31mNameError\u001b[0m                                 Traceback (most recent call last)",
      "Cell \u001b[1;32mIn[10], line 5\u001b[0m\n\u001b[0;32m      3\u001b[0m x \u001b[38;5;241m=\u001b[39m np\u001b[38;5;241m.\u001b[39marange(\u001b[38;5;241m10\u001b[39m)\n\u001b[0;32m      4\u001b[0m x\n\u001b[1;32m----> 5\u001b[0m \u001b[43marray\u001b[49m([\u001b[38;5;241m0\u001b[39m, \u001b[38;5;241m1\u001b[39m, \u001b[38;5;241m2\u001b[39m, \u001b[38;5;241m3\u001b[39m, \u001b[38;5;241m4\u001b[39m, \u001b[38;5;241m5\u001b[39m, \u001b[38;5;241m6\u001b[39m, \u001b[38;5;241m7\u001b[39m, \u001b[38;5;241m8\u001b[39m, \u001b[38;5;241m9\u001b[39m])\n\u001b[0;32m      8\u001b[0m \u001b[38;5;66;03m#from start to 4th position\u001b[39;00m\n\u001b[0;32m      9\u001b[0m x[:\u001b[38;5;241m5\u001b[39m]\n",
      "\u001b[1;31mNameError\u001b[0m: name 'array' is not defined"
     ]
    }
   ],
   "source": [
    "import numpy as np\n",
    "\n",
    "x = np.arange(10)\n",
    "x\n",
    "array([0, 1, 2, 3, 4, 5, 6, 7, 8, 9])\n",
    "\n",
    "\n",
    "#from start to 4th position\n",
    "x[:5]\n",
    "array([0, 1, 2, 3, 4])\n",
    "\n",
    "\n",
    "#from 4th position to end\n",
    "x[4:]\n",
    "array([4, 5, 6, 7, 8, 9])\n",
    "\n",
    "\n",
    "#from 4th to 6th position\n",
    "x[4:7]\n",
    "array([4, 5, 6])\n",
    "\n",
    "\n",
    "#return elements at even place\n",
    "x[ : : 2]\n",
    "array([0, 2, 4, 6, 8])\n",
    "\n",
    "\n",
    "#return elements from first position step by two\n",
    "x[1::2]\n",
    "array([1, 3, 5, 7, 9])\n",
    "\n",
    "\n",
    "#reverse the array\n",
    "x[::-1]\n",
    "array([9, 8, 7, 6, 5, 4, 3, 2, 1, 0])\n"
   ]
  },
  {
   "cell_type": "code",
   "execution_count": 11,
   "id": "13edccc7",
   "metadata": {},
   "outputs": [
    {
     "ename": "NameError",
     "evalue": "name 'array' is not defined",
     "output_type": "error",
     "traceback": [
      "\u001b[1;31m---------------------------------------------------------------------------\u001b[0m",
      "\u001b[1;31mNameError\u001b[0m                                 Traceback (most recent call last)",
      "Cell \u001b[1;32mIn[11], line 6\u001b[0m\n\u001b[0;32m      4\u001b[0m z \u001b[38;5;241m=\u001b[39m [\u001b[38;5;241m21\u001b[39m,\u001b[38;5;241m21\u001b[39m,\u001b[38;5;241m21\u001b[39m]\n\u001b[0;32m      5\u001b[0m np\u001b[38;5;241m.\u001b[39mconcatenate([x, y,z])\n\u001b[1;32m----> 6\u001b[0m \u001b[43marray\u001b[49m([ \u001b[38;5;241m1\u001b[39m,  \u001b[38;5;241m2\u001b[39m,  \u001b[38;5;241m3\u001b[39m,  \u001b[38;5;241m3\u001b[39m,  \u001b[38;5;241m2\u001b[39m,  \u001b[38;5;241m1\u001b[39m, \u001b[38;5;241m21\u001b[39m, \u001b[38;5;241m21\u001b[39m, \u001b[38;5;241m21\u001b[39m])\n\u001b[0;32m      9\u001b[0m \u001b[38;5;66;03m#You can also use this function to create 2-dimensional arrays.\u001b[39;00m\n\u001b[0;32m     10\u001b[0m grid \u001b[38;5;241m=\u001b[39m np\u001b[38;5;241m.\u001b[39marray([[\u001b[38;5;241m1\u001b[39m,\u001b[38;5;241m2\u001b[39m,\u001b[38;5;241m3\u001b[39m],[\u001b[38;5;241m4\u001b[39m,\u001b[38;5;241m5\u001b[39m,\u001b[38;5;241m6\u001b[39m]])\n",
      "\u001b[1;31mNameError\u001b[0m: name 'array' is not defined"
     ]
    }
   ],
   "source": [
    "#You can concatenate two or more arrays at once.\n",
    "x = np.array([1, 2, 3])\n",
    "y = np.array([3, 2, 1])\n",
    "z = [21,21,21]\n",
    "np.concatenate([x, y,z])\n",
    "array([ 1,  2,  3,  3,  2,  1, 21, 21, 21])\n",
    "\n",
    "\n",
    "#You can also use this function to create 2-dimensional arrays.\n",
    "grid = np.array([[1,2,3],[4,5,6]])\n",
    "np.concatenate([grid,grid])\n",
    "array([[1, 2, 3],\n",
    "      [4, 5, 6],\n",
    "      [1, 2, 3],\n",
    "      [4, 5, 6]])\n",
    "\n",
    "\n",
    "#Using its axis parameter, you can define row-wise or column-wise matrix\n",
    "np.concatenate([grid,grid],axis=1)\n",
    "array([[1, 2, 3, 1, 2, 3],\n",
    "      [4, 5, 6, 4, 5, 6]])"
   ]
  },
  {
   "cell_type": "code",
   "execution_count": null,
   "id": "32dfd384",
   "metadata": {},
   "outputs": [],
   "source": []
  },
  {
   "cell_type": "code",
   "execution_count": 12,
   "id": "2bc8aded",
   "metadata": {},
   "outputs": [
    {
     "ename": "NameError",
     "evalue": "name 'array' is not defined",
     "output_type": "error",
     "traceback": [
      "\u001b[1;31m---------------------------------------------------------------------------\u001b[0m",
      "\u001b[1;31mNameError\u001b[0m                                 Traceback (most recent call last)",
      "Cell \u001b[1;32mIn[12], line 4\u001b[0m\n\u001b[0;32m      2\u001b[0m grid \u001b[38;5;241m=\u001b[39m np\u001b[38;5;241m.\u001b[39marray([[\u001b[38;5;241m1\u001b[39m,\u001b[38;5;241m2\u001b[39m,\u001b[38;5;241m3\u001b[39m],[\u001b[38;5;241m17\u001b[39m,\u001b[38;5;241m18\u001b[39m,\u001b[38;5;241m19\u001b[39m]])\n\u001b[0;32m      3\u001b[0m np\u001b[38;5;241m.\u001b[39mvstack([x,grid])\n\u001b[1;32m----> 4\u001b[0m \u001b[43marray\u001b[49m([[ \u001b[38;5;241m3\u001b[39m,  \u001b[38;5;241m4\u001b[39m,  \u001b[38;5;241m5\u001b[39m],\n\u001b[0;32m      5\u001b[0m       [ \u001b[38;5;241m1\u001b[39m,  \u001b[38;5;241m2\u001b[39m,  \u001b[38;5;241m3\u001b[39m],\n\u001b[0;32m      6\u001b[0m       [\u001b[38;5;241m17\u001b[39m, \u001b[38;5;241m18\u001b[39m, \u001b[38;5;241m19\u001b[39m]])\n\u001b[0;32m      9\u001b[0m \u001b[38;5;66;03m#Similarly, you can add an array using np.hstack\u001b[39;00m\n\u001b[0;32m     10\u001b[0m z \u001b[38;5;241m=\u001b[39m np\u001b[38;5;241m.\u001b[39marray([[\u001b[38;5;241m9\u001b[39m],[\u001b[38;5;241m9\u001b[39m]])\n",
      "\u001b[1;31mNameError\u001b[0m: name 'array' is not defined"
     ]
    }
   ],
   "source": [
    "x = np.array([3,4,5])\n",
    "grid = np.array([[1,2,3],[17,18,19]])\n",
    "np.vstack([x,grid])\n",
    "array([[ 3,  4,  5],\n",
    "      [ 1,  2,  3],\n",
    "      [17, 18, 19]])\n",
    "\n",
    "\n",
    "#Similarly, you can add an array using np.hstack\n",
    "z = np.array([[9],[9]])\n",
    "np.hstack([grid,z])\n",
    "array([[ 1,  2,  3,  9],\n",
    "      [17, 18, 19,  9]])"
   ]
  },
  {
   "cell_type": "code",
   "execution_count": 13,
   "id": "234f6548",
   "metadata": {},
   "outputs": [
    {
     "ename": "SyntaxError",
     "evalue": "Missing parentheses in call to 'print'. Did you mean print(...)? (4204479440.py, line 7)",
     "output_type": "error",
     "traceback": [
      "\u001b[1;36m  Cell \u001b[1;32mIn[13], line 7\u001b[1;36m\u001b[0m\n\u001b[1;33m    print x1,x2,x3\u001b[0m\n\u001b[1;37m    ^\u001b[0m\n\u001b[1;31mSyntaxError\u001b[0m\u001b[1;31m:\u001b[0m Missing parentheses in call to 'print'. Did you mean print(...)?\n"
     ]
    }
   ],
   "source": [
    "x = np.arange(10)\n",
    "x\n",
    "array([0, 1, 2, 3, 4, 5, 6, 7, 8, 9])\n",
    "\n",
    "\n",
    "x1,x2,x3 = np.split(x,[3,6])\n",
    "print x1,x2,x3\n",
    "[0 1 2] [3 4 5] [6 7 8 9]\n",
    "\n",
    "grid = np.arange(16).reshape((4,4))\n",
    "grid\n",
    "upper,lower = np.vsplit(grid,[2])\n",
    "print (upper, lower)\n",
    "(array([[0, 1, 2, 3],\n",
    "       [4, 5, 6, 7]]), array([[ 8,  9, 10, 11],\n",
    "       [12, 13, 14, 15]]))"
   ]
  },
  {
   "cell_type": "code",
   "execution_count": 14,
   "id": "cee3ed54",
   "metadata": {},
   "outputs": [
    {
     "ename": "SyntaxError",
     "evalue": "invalid syntax (184191149.py, line 3)",
     "output_type": "error",
     "traceback": [
      "\u001b[1;36m  Cell \u001b[1;32mIn[14], line 3\u001b[1;36m\u001b[0m\n\u001b[1;33m    <class 'pandas.core.frame.DataFrame'>\u001b[0m\n\u001b[1;37m    ^\u001b[0m\n\u001b[1;31mSyntaxError\u001b[0m\u001b[1;31m:\u001b[0m invalid syntax\n"
     ]
    }
   ],
   "source": [
    "#Among other things, it shows the data set has 5 rows and 2 columns with their respective names.\n",
    "data.info()\n",
    "<class 'pandas.core.frame.DataFrame'>\n",
    "RangeIndex: 5 entries, 0 to 4\n",
    "Data columns (total 2 columns):\n",
    "Country    5 non-null object\n",
    "Rank       5 non-null int64\n",
    "dtypes: int64(1), object(1)\n",
    "memory usage: 152.0+ bytes\n",
    "\n",
    "\n",
    "#Let's create another data frame.\n",
    "data = pd.DataFrame({'group':['a', 'a', 'a', 'b','b', 'b', 'c', 'c','c'],'ounces':[4, 3, 12, 6, 7.5, 8, 3, 5, 6]})\n",
    "data"
   ]
  },
  {
   "cell_type": "code",
   "execution_count": 15,
   "id": "ac0d5b54",
   "metadata": {},
   "outputs": [
    {
     "ename": "NameError",
     "evalue": "name 'data' is not defined",
     "output_type": "error",
     "traceback": [
      "\u001b[1;31m---------------------------------------------------------------------------\u001b[0m",
      "\u001b[1;31mNameError\u001b[0m                                 Traceback (most recent call last)",
      "Cell \u001b[1;32mIn[15], line 2\u001b[0m\n\u001b[0;32m      1\u001b[0m \u001b[38;5;66;03m#Let's sort the data frame by ounces - inplace = True will make changes to the data\u001b[39;00m\n\u001b[1;32m----> 2\u001b[0m \u001b[43mdata\u001b[49m\u001b[38;5;241m.\u001b[39msort_values(by\u001b[38;5;241m=\u001b[39m[\u001b[38;5;124m'\u001b[39m\u001b[38;5;124mounces\u001b[39m\u001b[38;5;124m'\u001b[39m],ascending\u001b[38;5;241m=\u001b[39m\u001b[38;5;28;01mTrue\u001b[39;00m,inplace\u001b[38;5;241m=\u001b[39m\u001b[38;5;28;01mFalse\u001b[39;00m)\n",
      "\u001b[1;31mNameError\u001b[0m: name 'data' is not defined"
     ]
    }
   ],
   "source": [
    "#Let's sort the data frame by ounces - inplace = True will make changes to the data\n",
    "data.sort_values(by=['ounces'],ascending=True,inplace=False)"
   ]
  },
  {
   "cell_type": "code",
   "execution_count": 16,
   "id": "78a372e1",
   "metadata": {},
   "outputs": [
    {
     "ename": "NameError",
     "evalue": "name 'pd' is not defined",
     "output_type": "error",
     "traceback": [
      "\u001b[1;31m---------------------------------------------------------------------------\u001b[0m",
      "\u001b[1;31mNameError\u001b[0m                                 Traceback (most recent call last)",
      "Cell \u001b[1;32mIn[16], line 1\u001b[0m\n\u001b[1;32m----> 1\u001b[0m data \u001b[38;5;241m=\u001b[39m \u001b[43mpd\u001b[49m\u001b[38;5;241m.\u001b[39mDataFrame({\u001b[38;5;124m'\u001b[39m\u001b[38;5;124mfood\u001b[39m\u001b[38;5;124m'\u001b[39m: [\u001b[38;5;124m'\u001b[39m\u001b[38;5;124mbacon\u001b[39m\u001b[38;5;124m'\u001b[39m, \u001b[38;5;124m'\u001b[39m\u001b[38;5;124mpulled pork\u001b[39m\u001b[38;5;124m'\u001b[39m, \u001b[38;5;124m'\u001b[39m\u001b[38;5;124mbacon\u001b[39m\u001b[38;5;124m'\u001b[39m, \u001b[38;5;124m'\u001b[39m\u001b[38;5;124mPastrami\u001b[39m\u001b[38;5;124m'\u001b[39m,\u001b[38;5;124m'\u001b[39m\u001b[38;5;124mcorned beef\u001b[39m\u001b[38;5;124m'\u001b[39m, \u001b[38;5;124m'\u001b[39m\u001b[38;5;124mBacon\u001b[39m\u001b[38;5;124m'\u001b[39m, \u001b[38;5;124m'\u001b[39m\u001b[38;5;124mpastrami\u001b[39m\u001b[38;5;124m'\u001b[39m, \u001b[38;5;124m'\u001b[39m\u001b[38;5;124mhoney ham\u001b[39m\u001b[38;5;124m'\u001b[39m,\u001b[38;5;124m'\u001b[39m\u001b[38;5;124mnova lox\u001b[39m\u001b[38;5;124m'\u001b[39m],\n\u001b[0;32m      2\u001b[0m                  \u001b[38;5;124m'\u001b[39m\u001b[38;5;124mounces\u001b[39m\u001b[38;5;124m'\u001b[39m: [\u001b[38;5;241m4\u001b[39m, \u001b[38;5;241m3\u001b[39m, \u001b[38;5;241m12\u001b[39m, \u001b[38;5;241m6\u001b[39m, \u001b[38;5;241m7.5\u001b[39m, \u001b[38;5;241m8\u001b[39m, \u001b[38;5;241m3\u001b[39m, \u001b[38;5;241m5\u001b[39m, \u001b[38;5;241m6\u001b[39m]})\n\u001b[0;32m      3\u001b[0m data\n",
      "\u001b[1;31mNameError\u001b[0m: name 'pd' is not defined"
     ]
    }
   ],
   "source": [
    "data = pd.DataFrame({'food': ['bacon', 'pulled pork', 'bacon', 'Pastrami','corned beef', 'Bacon', 'pastrami', 'honey ham','nova lox'],\n",
    "                 'ounces': [4, 3, 12, 6, 7.5, 8, 3, 5, 6]})\n",
    "data"
   ]
  },
  {
   "cell_type": "code",
   "execution_count": 17,
   "id": "1b24d7e0",
   "metadata": {},
   "outputs": [
    {
     "ename": "NameError",
     "evalue": "name 'data' is not defined",
     "output_type": "error",
     "traceback": [
      "\u001b[1;31m---------------------------------------------------------------------------\u001b[0m",
      "\u001b[1;31mNameError\u001b[0m                                 Traceback (most recent call last)",
      "Cell \u001b[1;32mIn[17], line 26\u001b[0m\n\u001b[0;32m     22\u001b[0m         \u001b[38;5;28;01mreturn\u001b[39;00m \u001b[38;5;124m'\u001b[39m\u001b[38;5;124msalmon\u001b[39m\u001b[38;5;124m'\u001b[39m\n\u001b[0;32m     25\u001b[0m \u001b[38;5;66;03m#create a new variable\u001b[39;00m\n\u001b[1;32m---> 26\u001b[0m data[\u001b[38;5;124m'\u001b[39m\u001b[38;5;124manimal\u001b[39m\u001b[38;5;124m'\u001b[39m] \u001b[38;5;241m=\u001b[39m \u001b[43mdata\u001b[49m[\u001b[38;5;124m'\u001b[39m\u001b[38;5;124mfood\u001b[39m\u001b[38;5;124m'\u001b[39m]\u001b[38;5;241m.\u001b[39mmap(\u001b[38;5;28mstr\u001b[39m\u001b[38;5;241m.\u001b[39mlower)\u001b[38;5;241m.\u001b[39mmap(meat_to_animal)\n\u001b[0;32m     27\u001b[0m data\n",
      "\u001b[1;31mNameError\u001b[0m: name 'data' is not defined"
     ]
    }
   ],
   "source": [
    "meat_to_animal = {\n",
    "'bacon': 'pig',\n",
    "'pulled pork': 'pig',\n",
    "'pastrami': 'cow',\n",
    "'corned beef': 'cow',\n",
    "'honey ham': 'pig',\n",
    "'nova lox': 'salmon'\n",
    "}\n",
    "\n",
    "def meat_2_animal(series):\n",
    "    if series['food'] == 'bacon':\n",
    "        return 'pig'\n",
    "    elif series['food'] == 'pulled pork':\n",
    "        return 'pig'\n",
    "    elif series['food'] == 'pastrami':\n",
    "        return 'cow'\n",
    "    elif series['food'] == 'corned beef':\n",
    "        return 'cow'\n",
    "    elif series['food'] == 'honey ham':\n",
    "        return 'pig'\n",
    "    else:\n",
    "        return 'salmon'\n",
    "\n",
    "\n",
    "#create a new variable\n",
    "data['animal'] = data['food'].map(str.lower).map(meat_to_animal)\n",
    "data"
   ]
  },
  {
   "cell_type": "code",
   "execution_count": 18,
   "id": "a8677d39",
   "metadata": {},
   "outputs": [
    {
     "ename": "SyntaxError",
     "evalue": "invalid syntax (720886389.py, line 4)",
     "output_type": "error",
     "traceback": [
      "\u001b[1;36m  Cell \u001b[1;32mIn[18], line 4\u001b[1;36m\u001b[0m\n\u001b[1;33m    0       1.0\u001b[0m\n\u001b[1;37m            ^\u001b[0m\n\u001b[1;31mSyntaxError\u001b[0m\u001b[1;31m:\u001b[0m invalid syntax\n"
     ]
    }
   ],
   "source": [
    "#Series function from pandas are used to create arrays\n",
    "data = pd.Series([1., -999., 2., -999., -1000., 3.])\n",
    "data\n",
    "0       1.0\n",
    "1    -999.0\n",
    "2       2.0\n",
    "3    -999.0\n",
    "4   -1000.0\n",
    "5       3.0\n",
    "dtype: float64\n",
    "\n",
    "\n",
    "#replace -999 with NaN values\n",
    "data.replace(-999, np.nan,inplace=True)\n",
    "data\n",
    "0       1.0\n",
    "1       NaN\n",
    "2       2.0\n",
    "3       NaN\n",
    "4   -1000.0\n",
    "5       3.0\n",
    "dtype: float64\n",
    "\n",
    "\n",
    "#We can also replace multiple values at once.\n",
    "data = pd.Series([1., -999., 2., -999., -1000., 3.])\n",
    "data.replace([-999,-1000],np.nan,inplace=True)\n",
    "data\n",
    "0    1.0\n",
    "1    NaN\n",
    "2    2.0\n",
    "3    NaN\n",
    "4    NaN\n",
    "5    3.0\n",
    "dtype: float64"
   ]
  },
  {
   "cell_type": "code",
   "execution_count": 19,
   "id": "c3a0716d",
   "metadata": {},
   "outputs": [
    {
     "ename": "SyntaxError",
     "evalue": "closing parenthesis ']' does not match opening parenthesis '(' (3542611272.py, line 5)",
     "output_type": "error",
     "traceback": [
      "\u001b[1;36m  Cell \u001b[1;32mIn[19], line 5\u001b[1;36m\u001b[0m\n\u001b[1;33m    [(18, 25], (18, 25], (18, 25], (25, 35], (18, 25], ..., (25, 35], (60, 100], (35, 60], (35, 60], (25, 35]]\u001b[0m\n\u001b[1;37m            ^\u001b[0m\n\u001b[1;31mSyntaxError\u001b[0m\u001b[1;31m:\u001b[0m closing parenthesis ']' does not match opening parenthesis '('\n"
     ]
    }
   ],
   "source": [
    "#Understand the output - '(' means the value is included in the bin, '[' means the value is excluded\n",
    "bins = [18, 25, 35, 60, 100]\n",
    "cats = pd.cut(ages, bins)\n",
    "cats\n",
    "[(18, 25], (18, 25], (18, 25], (25, 35], (18, 25], ..., (25, 35], (60, 100], (35, 60], (35, 60], (25, 35]]\n",
    "Length: 12\n",
    "Categories (4, object): [(18, 25] < (25, 35] < (35, 60] < (60, 100]]\n",
    "\n",
    "\n",
    "#To include the right bin value, we can do:\n",
    "pd.cut(ages,bins,right=False)\n",
    "[[18, 25), [18, 25), [25, 35), [25, 35), [18, 25), ..., [25, 35), [60, 100), [35, 60), [35, 60), [25, 35)]\n",
    "Length: 12\n",
    "Categories (4, object): [[18, 25) < [25, 35) < [35, 60) < [60, 100)]\n",
    "\n",
    "\n",
    "#pandas library intrinsically assigns an encoding to categorical variables.\n",
    "cats.labels\n",
    "array([0, 0, 0, 1, 0, 0, 2, 1, 3, 2, 2, 1], dtype=int8)\n",
    "\n",
    "\n",
    "#Let's check how many observations fall under each bin\n",
    "pd.value_counts(cats)\n",
    "(18, 25]     5\n",
    "(35, 60]     3\n",
    "(25, 35]     3\n",
    "(60, 100]    1\n",
    "dtype: int64"
   ]
  },
  {
   "cell_type": "code",
   "execution_count": 20,
   "id": "3ad1b246",
   "metadata": {},
   "outputs": [
    {
     "ename": "IndentationError",
     "evalue": "unexpected indent (837945231.py, line 16)",
     "output_type": "error",
     "traceback": [
      "\u001b[1;36m  Cell \u001b[1;32mIn[20], line 16\u001b[1;36m\u001b[0m\n\u001b[1;33m    RandomForestClassifier(bootstrap=True, class_weight=None, criterion='gini',\u001b[0m\n\u001b[1;37m    ^\u001b[0m\n\u001b[1;31mIndentationError\u001b[0m\u001b[1;31m:\u001b[0m unexpected indent\n"
     ]
    }
   ],
   "source": [
    "from sklearn.model_selection import train_test_split\n",
    "from sklearn.ensemble import RandomForestClassifier\n",
    "from sklearn.cross_validation import cross_val_score\n",
    "from sklearn.metrics import accuracy_score\n",
    "\n",
    "y = train['target']\n",
    "del train['target']\n",
    "\n",
    "X = train\n",
    "X_train,X_test,y_train,y_test = train_test_split(X,y,test_size=0.3,random_state=1,stratify=y)\n",
    "\n",
    "#train the RF classifier\n",
    "clf = RandomForestClassifier(n_estimators = 500, max_depth = 6)\n",
    "clf.fit(X_train,y_train)\n",
    "\n",
    "    RandomForestClassifier(bootstrap=True, class_weight=None, criterion='gini',\n",
    "                max_depth=6, max_features='auto', max_leaf_nodes=None,\n",
    "                min_impurity_split=1e-07, min_samples_leaf=1,\n",
    "                min_samples_split=2, min_weight_fraction_leaf=0.0,\n",
    "                n_estimators=500, n_jobs=1, oob_score=False, random_state=None,\n",
    "                verbose=0, warm_start=False)\n",
    "\n",
    "clf.predict(X_test)"
   ]
  },
  {
   "cell_type": "code",
   "execution_count": 21,
   "id": "840eb7cd",
   "metadata": {},
   "outputs": [
    {
     "ename": "NameError",
     "evalue": "name 'train' is not defined",
     "output_type": "error",
     "traceback": [
      "\u001b[1;31m---------------------------------------------------------------------------\u001b[0m",
      "\u001b[1;31mNameError\u001b[0m                                 Traceback (most recent call last)",
      "Cell \u001b[1;32mIn[21], line 2\u001b[0m\n\u001b[0;32m      1\u001b[0m \u001b[38;5;66;03m#Education\u001b[39;00m\n\u001b[1;32m----> 2\u001b[0m \u001b[43mtrain\u001b[49m\u001b[38;5;241m.\u001b[39mworkclass\u001b[38;5;241m.\u001b[39mvalue_counts(sort\u001b[38;5;241m=\u001b[39m\u001b[38;5;28;01mTrue\u001b[39;00m)\n\u001b[0;32m      3\u001b[0m train\u001b[38;5;241m.\u001b[39mworkclass\u001b[38;5;241m.\u001b[39mfillna(\u001b[38;5;124m'\u001b[39m\u001b[38;5;124mPrivate\u001b[39m\u001b[38;5;124m'\u001b[39m,inplace\u001b[38;5;241m=\u001b[39m\u001b[38;5;28;01mTrue\u001b[39;00m)\n\u001b[0;32m      6\u001b[0m \u001b[38;5;66;03m#Occupation\u001b[39;00m\n",
      "\u001b[1;31mNameError\u001b[0m: name 'train' is not defined"
     ]
    }
   ],
   "source": [
    "#Education\n",
    "train.workclass.value_counts(sort=True)\n",
    "train.workclass.fillna('Private',inplace=True)\n",
    "\n",
    "\n",
    "#Occupation\n",
    "train.occupation.value_counts(sort=True)\n",
    "train.occupation.fillna('Prof-specialty',inplace=True)\n",
    "\n",
    "\n",
    "#Native Country\n",
    "train['native.country'].value_counts(sort=True)\n",
    "train['native.country'].fillna('United-States',inplace=True)"
   ]
  },
  {
   "cell_type": "code",
   "execution_count": 22,
   "id": "41a5a158",
   "metadata": {},
   "outputs": [
    {
     "ename": "IndentationError",
     "evalue": "unexpected indent (837945231.py, line 16)",
     "output_type": "error",
     "traceback": [
      "\u001b[1;36m  Cell \u001b[1;32mIn[22], line 16\u001b[1;36m\u001b[0m\n\u001b[1;33m    RandomForestClassifier(bootstrap=True, class_weight=None, criterion='gini',\u001b[0m\n\u001b[1;37m    ^\u001b[0m\n\u001b[1;31mIndentationError\u001b[0m\u001b[1;31m:\u001b[0m unexpected indent\n"
     ]
    }
   ],
   "source": [
    "from sklearn.model_selection import train_test_split\n",
    "from sklearn.ensemble import RandomForestClassifier\n",
    "from sklearn.cross_validation import cross_val_score\n",
    "from sklearn.metrics import accuracy_score\n",
    "\n",
    "y = train['target']\n",
    "del train['target']\n",
    "\n",
    "X = train\n",
    "X_train,X_test,y_train,y_test = train_test_split(X,y,test_size=0.3,random_state=1,stratify=y)\n",
    "\n",
    "#train the RF classifier\n",
    "clf = RandomForestClassifier(n_estimators = 500, max_depth = 6)\n",
    "clf.fit(X_train,y_train)\n",
    "\n",
    "    RandomForestClassifier(bootstrap=True, class_weight=None, criterion='gini',\n",
    "                max_depth=6, max_features='auto', max_leaf_nodes=None,\n",
    "                min_impurity_split=1e-07, min_samples_leaf=1,\n",
    "                min_samples_split=2, min_weight_fraction_leaf=0.0,\n",
    "                n_estimators=500, n_jobs=1, oob_score=False, random_state=None,\n",
    "                verbose=0, warm_start=False)\n",
    "\n",
    "clf.predict(X_test)"
   ]
  },
  {
   "cell_type": "code",
   "execution_count": null,
   "id": "f7e9cbdf",
   "metadata": {},
   "outputs": [],
   "source": []
  }
 ],
 "metadata": {
  "kernelspec": {
   "display_name": "Python 3 (ipykernel)",
   "language": "python",
   "name": "python3"
  },
  "language_info": {
   "codemirror_mode": {
    "name": "ipython",
    "version": 3
   },
   "file_extension": ".py",
   "mimetype": "text/x-python",
   "name": "python",
   "nbconvert_exporter": "python",
   "pygments_lexer": "ipython3",
   "version": "3.10.9"
  }
 },
 "nbformat": 4,
 "nbformat_minor": 5
}
